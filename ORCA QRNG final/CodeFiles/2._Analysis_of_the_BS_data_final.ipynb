{
 "cells": [
  {
   "cell_type": "markdown",
   "id": "5595a0b1",
   "metadata": {},
   "source": [
    "$\\textbf{Analysis of the Boson Sampling data}$"
   ]
  },
  {
   "cell_type": "markdown",
   "id": "eade9d01",
   "metadata": {},
   "source": [
    "$\\textbf{2.1. Importing the data}$"
   ]
  },
  {
   "cell_type": "markdown",
   "id": "2b8b9f97",
   "metadata": {},
   "source": [
    "What data do you want to access?"
   ]
  },
  {
   "cell_type": "code",
   "execution_count": 3,
   "id": "e48cd1ae",
   "metadata": {},
   "outputs": [
    {
     "name": "stdout",
     "output_type": "stream",
     "text": [
      "In the next cell you will need to input a number\n",
      "input 0 for use the data seed42_gbs\n",
      "input 1 for use the data seed42_2photon\n",
      "input 2 for use the data seed177_2photon\n",
      "input 3 for use the data seed42_3photon\n",
      "input 4 for use the data seed177_3photon\n"
     ]
    }
   ],
   "source": [
    "#Run this cell\n",
    "seed=['seed42_gbs','seed42_2photon','seed177_2photon','seed42_3photon','seed177_3photon']\n",
    "\n",
    "print('In the next cell you will need to input a number')\n",
    "for i in range(len(seed)):\n",
    "    print('input', i, 'for use the data', seed[i])"
   ]
  },
  {
   "cell_type": "code",
   "execution_count": 4,
   "id": "0800ce2d",
   "metadata": {},
   "outputs": [],
   "source": [
    "#What data do you want?\n",
    "\n",
    "input_number=1 #change the number according to the las cell "
   ]
  },
  {
   "cell_type": "markdown",
   "id": "d393d804",
   "metadata": {},
   "source": [
    "the next cell takes the number you chose to import the data"
   ]
  },
  {
   "cell_type": "code",
   "execution_count": 5,
   "id": "0384cf8c",
   "metadata": {},
   "outputs": [
    {
     "name": "stdout",
     "output_type": "stream",
     "text": [
      "This data contains 600 experiments of the BS\n"
     ]
    }
   ],
   "source": [
    "import numpy as np\n",
    "\n",
    "from numpy import loadtxt\n",
    "file = open(str('data/'+str(seed[input_number])+'.csv'), 'rb')\n",
    "data = loadtxt(file,delimiter = \",\")\n",
    "\n",
    "print('This data contains',len(data), 'experiments of the BS')\n"
   ]
  },
  {
   "cell_type": "code",
   "execution_count": null,
   "id": "67f8e667",
   "metadata": {},
   "outputs": [],
   "source": []
  },
  {
   "cell_type": "code",
   "execution_count": null,
   "id": "7e0f82d7",
   "metadata": {},
   "outputs": [],
   "source": []
  },
  {
   "cell_type": "markdown",
   "id": "d154311b",
   "metadata": {},
   "source": [
    "$\\textbf{2.2. Defining functions}$"
   ]
  },
  {
   "cell_type": "markdown",
   "id": "12f7de23",
   "metadata": {},
   "source": [
    "The next cell defines almost all of the functions we'll need, so be sure to run it"
   ]
  },
  {
   "cell_type": "code",
   "execution_count": 4,
   "id": "2c608543",
   "metadata": {},
   "outputs": [],
   "source": [
    "#This cell is for some functions that are gonna be helpful and I hope, make the code clear. \n",
    "import collections\n",
    "import operator\n",
    "from matplotlib import pyplot as plt\n",
    "import numpy\n",
    "\n",
    "\n",
    "# Von-Neumann post processing\n",
    "#--------------------------------\n",
    "# this is partof the Bakhao code I just made it a function\n",
    "\n",
    "\n",
    "# defining a function that does the Von-Neumann post processing\n",
    "# \n",
    "\n",
    "def post_process(S1,S2):\n",
    "    S=[] # create an empty list\n",
    "    # fill that list by comparing bit by bit\n",
    "    for i in range (len(S1)):\n",
    "        if S1[i]!=0 and S2[i]==0:\n",
    "            S = S + [0]\n",
    "        if S1[i]==0 and S2[i]!=0:\n",
    "            S = S + [1]\n",
    "    Sample = np.array(S) # turn list in to array\n",
    "    return S\n",
    "\n",
    "#\n",
    "#This function define a new list that takes the results and turn the results in a str\n",
    "#It's gonna be used in the next functions\n",
    "#------------------------------------------------------------------\n",
    "\n",
    "def resltstr(lst):\n",
    "    reslt=[]\n",
    "    for i in lst:\n",
    "        rj=''\n",
    "        for j in range(len(i)):\n",
    "            rj+=str(i[j])\n",
    "        reslt+= [rj]\n",
    "    return reslt\n",
    "    \n",
    "    \n",
    "    \n",
    "#This function produces the probability distribution considering the length of the string\n",
    "#-----------------------------------------------------\n",
    "\n",
    "def hist_function(phist):\n",
    "    \n",
    "    reslt=resltstr(phist)\n",
    "    Nn=len(reslt)\n",
    "    histt = collections.Counter(reslt)\n",
    "    values=[list(histt.keys()),list(histt.values())]\n",
    "    for i in range(len(values[1])):\n",
    "        values[1][i]=(values[1][i])/Nn\n",
    "    return values\n",
    "    \n",
    "    \n",
    "#this function produces the probabilitiy distribution considering the binari numbers make them all of the same lenght \n",
    "#--------------------------------------------------------------\n",
    "\n",
    "def histott(phist):\n",
    "    reslt=resltstr(phist)\n",
    "    Nn=len(reslt)\n",
    "        \n",
    "\n",
    "\n",
    "    for i in range(Nn):#len(reslt)):\n",
    "        j=reslt[i]\n",
    "        if len(j)==1:\n",
    "            j='0000'+ str(reslt[i])\n",
    "        elif len(j)==2:\n",
    "            j='000'+ str(reslt[i])\n",
    "        elif len(j)==3:\n",
    "            j='00'+ str(reslt[i])\n",
    "        elif len(j)==4:\n",
    "            j='0'+ str(reslt[i])\n",
    "        reslt[i]=j\n",
    "        \n",
    "    histt = collections.Counter(reslt)\n",
    "    values=[list(histt.keys()),list(histt.values())]\n",
    "    for i in range(len(values[1])):\n",
    "        values[1][i]=(values[1][i])/Nn\n",
    "    return values\n",
    "    \n",
    "    \n",
    "#This function is for sorting the histogram given the length of the random number\n",
    "#---------------------------------------------------------------------------\n",
    "def Sorting(lst):\n",
    "  \n",
    "    # list for storing the length of each string in list \n",
    "    lenlist=[]   \n",
    "    for x in lst[0]:\n",
    "         lenlist.append(len(x))     \n",
    "  \n",
    "    # return a list with the index of the sorted\n",
    "    # items in the list\n",
    "    sortedindex = numpy.argsort(lenlist)  \n",
    "  \n",
    "    # creating a dummy list where we will place the \n",
    "    # word according to the sortedindex list \n",
    "    lst2 = ['dummy']*len(lst[0])\n",
    "    lst3 = ['dummy']*len(lst[0])\n",
    "  \n",
    "    # print(sortedindex,lenlist)\n",
    "    for i in range(len(lst[0])):    \n",
    "  \n",
    "        # placing element in the lst2 list by taking the\n",
    "        # value from original list lst where it should belong \n",
    "        # in the sorted list by taking its index from sortedindex\n",
    "        lst2[i] = lst[0][sortedindex[i]]\n",
    "        lst3[i] = lst[1][sortedindex[i]]\n",
    "    liist=[lst2,lst3]\n",
    "                                          \n",
    "    return liist    \n",
    "        \n",
    "    \n",
    "     \n",
    "#Fuction to add ordering\n",
    "#---------------------------------------\n",
    "def sort_list(list1, list2): \n",
    "    zipped_pairs = zip(list2, list1)\n",
    "    z = [x for _, x in sorted(zipped_pairs)]     \n",
    "    return z    "
   ]
  },
  {
   "cell_type": "code",
   "execution_count": null,
   "id": "4aac4173",
   "metadata": {},
   "outputs": [],
   "source": []
  },
  {
   "cell_type": "markdown",
   "id": "96fff6df",
   "metadata": {},
   "source": [
    "$\\textbf{2.3. The generation of all the possible random numbers given a sample}$"
   ]
  },
  {
   "cell_type": "markdown",
   "id": "2f80ef93",
   "metadata": {},
   "source": [
    "The random number generator takes two random experiments and makes a Von-Neumann Post-processing.\n",
    "\n",
    "In order to study the probability distribution of the random numbers generated we need to consider all the possible permutations of the experiments.\n",
    "\n",
    "This takes a few seconds."
   ]
  },
  {
   "cell_type": "code",
   "execution_count": 5,
   "id": "770f7929",
   "metadata": {},
   "outputs": [
    {
     "name": "stdout",
     "output_type": "stream",
     "text": [
      "Given 600 samples, this code producces 337716 random numbers.\n",
      "The total of random numbers producced by a sample may vary with respect to the number of repeated experiments in the sample.\n"
     ]
    }
   ],
   "source": [
    "#This part do the Post-processing and generate a pre-histogram\n",
    "phist=[]    \n",
    "a=len(data) -1\n",
    "for i in range(a):\n",
    "    for j in range(a):\n",
    "        RN=post_process(data[i],data[j])\n",
    "        if RN!=[]:    #Im filtering the ones that take repeated experiments and produce nothing\n",
    "            phist+= [RN]\n",
    "    \n",
    "\n",
    "#This generates the real histogram\n",
    "hiis=hist_function(phist)\n",
    "#This shorts the histogram in terms of the length of the RN generated\n",
    "hist=Sorting(hiis)\n",
    "\n",
    "print('Given', len(data), 'samples, this code producces',len(phist),'random numbers.')\n",
    "print('The total of random numbers producced by a sample may vary with respect to the number of repeated experiments in the sample.')\n",
    "\n"
   ]
  },
  {
   "cell_type": "code",
   "execution_count": 6,
   "id": "ce787798",
   "metadata": {},
   "outputs": [
    {
     "data": {
      "image/png": "[encoded data removed]",
      "text/plain": [
       "<Figure size 1080x360 with 1 Axes>"
      ]
     },
     "metadata": {
      "needs_background": "light"
     },
     "output_type": "display_data"
    }
   ],
   "source": [
    "no_hist=len(max(hist[0]))\n",
    "plt.rcParams[\"figure.figsize\"] = (15,5)\n",
    "fig,ax = plt.subplots()\n",
    "plt.bar(hist[0], hist[1])\n",
    "\n",
    "if no_hist==4:\n",
    "    ax.tick_params(axis='x', labelrotation=45)\n",
    "elif no_hist==5:\n",
    "    ax.tick_params(axis='x', labelrotation=60)\n",
    "\n",
    "plt.xlabel('Random number generated')\n",
    "plt.ylabel('Marginal probability')\n",
    "plt.title('Probability distribution of the RN generated after the Post-processing')\n",
    "plt.show()"
   ]
  },
  {
   "cell_type": "markdown",
   "id": "3d63a2e1",
   "metadata": {},
   "source": [
    "From this graph, when we select a data from 2photons seems to be some symmetries hiden in the length of the string prodduced. \n",
    "\n",
    "In the GBS and in the data from 3 photons it's not clear but in the nfourth part we go deep on it.\n",
    "\n",
    "These symmetries are explained in terms of the unbiased distribution of the RN generation, as we will see in the fourth part."
   ]
  },
  {
   "cell_type": "code",
   "execution_count": null,
   "id": "a5cee533",
   "metadata": {},
   "outputs": [],
   "source": []
  },
  {
   "cell_type": "markdown",
   "id": "400086f6",
   "metadata": {},
   "source": [
    "$\\textbf{2.3.1. Optional: A usual misconception about the RN generated}$"
   ]
  },
  {
   "cell_type": "markdown",
   "id": "3f3d7a09",
   "metadata": {},
   "source": [
    "One misconception about this random number generator that our team had at the beginning and, as we could see in one of the hackathon meetings, may be present in other teams. \n",
    "\n",
    "This misconception consists in reading the string generated after the Von-Neuman post-processing as a binary number or equivalently as a decimal number. Then, expect to obtain an unbiased distribution of decimal/binary numbers. "
   ]
  },
  {
   "cell_type": "code",
   "execution_count": 7,
   "id": "b5c22f9d",
   "metadata": {},
   "outputs": [
    {
     "name": "stdout",
     "output_type": "stream",
     "text": [
      "This histogram is prodduced by 337716 random numbers\n"
     ]
    },
    {
     "data": {
      "image/png": "[encoded data removed]",
      "text/plain": [
       "<Figure size 1080x360 with 1 Axes>"
      ]
     },
     "metadata": {
      "needs_background": "light"
     },
     "output_type": "display_data"
    }
   ],
   "source": [
    "#This cell shows the probability distribution of the random numbers \n",
    "#IF we only consider the binary or decimal number generated\n",
    "#i.e. if we don't take into account the length of the random number generated. \n",
    "\n",
    "#In the data from Gaussian bosson sampling the graph traslaps and need to be optimized\n",
    "\n",
    "histot=histott(phist)\n",
    "\n",
    "print('This histogram is prodduced by',len(phist),'random numbers')\n",
    "\n",
    "shistot=[sorted(histot[0]),sort_list(histot[1],histot[0])]\n",
    "\n",
    "\n",
    "#no_hist=len(max(hist[0]))\n",
    "\n",
    "fig,ax = plt.subplots()\n",
    "\n",
    "plt.rcParams[\"figure.figsize\"] = (12,5)\n",
    "plt.bar(shistot[0], shistot[1])\n",
    "\n",
    "ax.tick_params(axis='x', labelrotation=45)\n",
    "\n",
    "plt.xlabel('Random number generated')\n",
    "plt.ylabel('Marginal probability')\n",
    "plt.title('Probability distribution of the RN generated considering the binary number')\n",
    "plt.show()"
   ]
  },
  {
   "cell_type": "markdown",
   "id": "14548666",
   "metadata": {},
   "source": [
    "This histogram shows no obvious structure. This was even a question in the Hackathon group.\n",
    "\n"
   ]
  },
  {
   "cell_type": "code",
   "execution_count": null,
   "id": "e8d8ec61",
   "metadata": {},
   "outputs": [],
   "source": []
  },
  {
   "cell_type": "markdown",
   "id": "15202a7c",
   "metadata": {},
   "source": [
    "$\\textbf{2.4. Study of probability distributions}$"
   ]
  },
  {
   "cell_type": "markdown",
   "id": "4089c2c0",
   "metadata": {},
   "source": [
    "The next cell gives us a different histogram for every length of the generated random number."
   ]
  },
  {
   "cell_type": "code",
   "execution_count": 8,
   "id": "f5f3b0f0",
   "metadata": {},
   "outputs": [],
   "source": [
    "#This cell needs to be optimized, but it will work for now. \n",
    "\n",
    "#This cell creates a histogram for any different length \n",
    "\n",
    "#first we create the lists for every histogram\n",
    "probstr=[]\n",
    "no_hist=len(max(hist[0]))\n",
    "for j in range(1,no_hist+1):\n",
    "    globals()['prob%s' % j]=[]\n",
    "    globals()['exp%s' % j]=[]\n",
    "    \n",
    "\n",
    "#This do the histograms\n",
    "for j in range (1,no_hist+1): \n",
    "    pi=0\n",
    "    for i in range(len(hist[0])):\n",
    "        if len(hist[0][i])==j:\n",
    "            pi+=hist[1][i]\n",
    "            globals()['prob%s' % j] += [hist[1][i]]\n",
    "            globals()['exp%s' % j] += [hist[0][i]]\n",
    "\n",
    "            #print(hiis[0][i])\n",
    "    probstr+=[pi] #This one saves the probability of finding a RN of lenght j\n",
    "    for i in range(len(globals()['prob%s' % j])):\n",
    "        globals()['prob%s' % j][i]=globals()['prob%s' % j][i]/pi\n",
    "        #print(globals()['prob%s' % j][i])\n",
    "        \n",
    "    globals()['chist%s' % j]= [globals()['exp%s' % j],globals()['prob%s' % j]]\n",
    "\n",
    "    \n",
    "#The names goes for shorted histogram\n",
    "shist1=[sorted(chist1[0]),sort_list(chist1[1],chist1[0])]  \n",
    "shist2=[sorted(chist2[0]),sort_list(chist2[1],chist2[0])]  \n",
    "shist3=[sorted(chist3[0]),sort_list(chist3[1],chist3[0])]  \n",
    "shist4=[sorted(chist4[0]),sort_list(chist4[1],chist4[0])]  \n",
    "if no_hist ==5:\n",
    "    shist5=[sorted(chist5[0]),sort_list(chist5[1],chist5[0])] #for the 3 or more photons \n",
    "    \n"
   ]
  },
  {
   "cell_type": "markdown",
   "id": "430ba0fd",
   "metadata": {},
   "source": [
    "We create some probability distributions in form of histograms:\n",
    "\n",
    "$\\textit{probstr}$ gives us the probabilitiy of produce a random str of length L between 1 and 5.\n",
    "\n",
    "$\\textit{shistL}$ gives us the distribution of conditional probability for any output given that we found a str of length L. "
   ]
  },
  {
   "cell_type": "code",
   "execution_count": 15,
   "id": "3b1d555e",
   "metadata": {},
   "outputs": [
    {
     "data": {
      "image/png": "[encoded data removed]",
      "text/plain": [
       "<Figure size 576x360 with 1 Axes>"
      ]
     },
     "metadata": {
      "needs_background": "light"
     },
     "output_type": "display_data"
    }
   ],
   "source": [
    "\n",
    "plen=[]\n",
    "for i in range(len(probstr)):\n",
    "    plen.append('P(L='+ str(i+1)+')') \n",
    "#print(plen)\n",
    "\n",
    "plt.rcParams[\"figure.figsize\"] = (8,5)\n",
    "plt.bar(plen, probstr)\n",
    "\n",
    "plt.xlabel('Probabilities in function of the length of a string generated')\n",
    "plt.ylabel('Marginal probability')\n",
    "plt.title('The probability distribution of generate a string of different length L')\n",
    "plt.show()"
   ]
  },
  {
   "cell_type": "code",
   "execution_count": 19,
   "id": "96157497",
   "metadata": {},
   "outputs": [
    {
     "data": {
      "image/png": "[encoded data removed]",
      "text/plain": [
       "<Figure size 864x360 with 1 Axes>"
      ]
     },
     "metadata": {
      "needs_background": "light"
     },
     "output_type": "display_data"
    }
   ],
   "source": [
    "\n",
    "\n",
    "\n",
    "#This generates the new labels just to show a better graph\n",
    "x1=['P(0|L=1)', 'P(1|L=1)']\n",
    "\n",
    "x2=['dummy']*len(shist2[0])\n",
    "for i in range(len(shist2[0])):\n",
    "    x2[i]='P('+ str(shist2[0][i])+'|L=2)' \n",
    "\n",
    "x3=['dummy']*len(shist3[0])\n",
    "for i in range(len(shist3[0])):\n",
    "    x3[i]='P('+ str(shist3[0][i])+'|L=3)' \n",
    "\n",
    "x4=['dummy']*len(shist4[0])\n",
    "for i in range(len(shist4[0])):\n",
    "    x4[i]='P('+ str(shist4[0][i])+'|L=4)' \n",
    "\n",
    "if no_hist ==5:  \n",
    "    x5=['dummy']*len(shist5[0])\n",
    "    for i in range(len(shist5[0])):\n",
    "        x5[i]='P('+ str(shist5[0][i])+'|len=5)' \n",
    "\n",
    "\n",
    "\n",
    "fig,ax = plt.subplots()\n",
    "\n",
    "plt.bar(x1, shist1[1])\n",
    "plt.bar(x2, shist2[1])\n",
    "plt.bar(x3, shist3[1])\n",
    "plt.bar(x4, shist4[1])\n",
    "if no_hist ==5:\n",
    "    plt.bar(x5, shist5[1])\n",
    "    \n",
    "plt.rcParams[\"figure.figsize\"] = (12,5)\n",
    "#ax.tick_params(axis='x', labelrotation=45)\n",
    "\n",
    "if no_hist==4:\n",
    "    ax.tick_params(axis='x', labelrotation=45)\n",
    "elif no_hist==5:\n",
    "    ax.tick_params(axis='x', labelrotation=90)\n",
    "\n",
    "\n",
    "#plt.xlabel('Conditional probabilities given that a str of length L is generated')\n",
    "plt.ylabel('Conditional probability')\n",
    "plt.title('Conditional probabilities distributions given that a string of length L is generated')\n",
    "plt.show()\n",
    "\n"
   ]
  },
  {
   "cell_type": "markdown",
   "id": "f76ea60b",
   "metadata": {},
   "source": [
    "We can interpret those as conditional probabilities. Given that a string of length L is produced, the probability of finding one of the possible outputs is shown in these histograms. \n",
    "\n",
    "The distribution probability of producing a string of length L and the particular form of the conditional probabilities are gonna change given the unitary matrix and the initial state in the Boson Sampling.\n",
    "\n",
    "\n",
    "However, regardless of the conditions of the experiment, there is a symmetry that is respected thanks to the Von-Neumann post-processing. And goes as follows:\n"
   ]
  },
  {
   "cell_type": "markdown",
   "id": "3fd49691",
   "metadata": {},
   "source": [
    "$\\textbf{2.5. Unbiased distribution in the i-th memeber of the string}$"
   ]
  },
  {
   "cell_type": "markdown",
   "id": "95a0c35f",
   "metadata": {},
   "source": [
    "The main idea of this part is to prove the unbiased of the random number generator in every member of the different lengths of strings\n",
    "\n"
   ]
  },
  {
   "cell_type": "markdown",
   "id": "26c40ee0",
   "metadata": {},
   "source": [
    "We want to check the conditional probability that, given a string of length $L$, the $i$th member of the string takes the value $0$.\n",
    "\n",
    "For this purpose, we will define the following notation.\n",
    "\n",
    "Suppose that after processing two samples we end up with a string $x$ of length $L$, we denote the probability that the $i$-th digit of that generated string takes the values zero or one as $P( x[i] =0\\vert L)$, and $P(x[i]=1\\vert L)$, respectively.\n",
    "\n",
    "We can calculate those probabilities with the data we have and test the unbiased probability for each $i$th element."
   ]
  },
  {
   "cell_type": "code",
   "execution_count": 20,
   "id": "2af85653",
   "metadata": {},
   "outputs": [
    {
     "name": "stdout",
     "output_type": "stream",
     "text": [
      "The conditional probabilities for the i-th digit given that we generate a string of length 1  are\n",
      "P(x[ 0 ]=0|L= 1 )= 0.5 P(x[ 0 ]=1|L= 1 )= 0.5\n",
      "The conditional probabilities for the i-th digit given that we generate a string of length 2  are\n",
      "P(x[ 0 ]=0|L= 2 )= 0.5 P(x[ 0 ]=1|L= 2 )= 0.5\n",
      "P(x[ 1 ]=0|L= 2 )= 0.5 P(x[ 1 ]=1|L= 2 )= 0.5\n",
      "The conditional probabilities for the i-th digit given that we generate a string of length 3  are\n",
      "P(x[ 0 ]=0|L= 3 )= 0.49999999999999994 P(x[ 0 ]=1|L= 3 )= 0.49999999999999994\n",
      "P(x[ 1 ]=0|L= 3 )= 0.4999999999999999 P(x[ 1 ]=1|L= 3 )= 0.49999999999999994\n",
      "P(x[ 2 ]=0|L= 3 )= 0.49999999999999994 P(x[ 2 ]=1|L= 3 )= 0.49999999999999994\n",
      "The conditional probabilities for the i-th digit given that we generate a string of length 4  are\n",
      "P(x[ 0 ]=0|L= 4 )= 0.5000000000000001 P(x[ 0 ]=1|L= 4 )= 0.5\n",
      "P(x[ 1 ]=0|L= 4 )= 0.5 P(x[ 1 ]=1|L= 4 )= 0.5\n",
      "P(x[ 2 ]=0|L= 4 )= 0.5000000000000001 P(x[ 2 ]=1|L= 4 )= 0.5\n",
      "P(x[ 3 ]=0|L= 4 )= 0.5 P(x[ 3 ]=1|L= 4 )= 0.5\n",
      "The conditional probabilities for the i-th digit given that we generate a string of length 5  are\n",
      "P(x[ 0 ]=0|L= 5 )= 0.5000000000000001 P(x[ 0 ]=1|L= 5 )= 0.5\n",
      "P(x[ 1 ]=0|L= 5 )= 0.5000000000000001 P(x[ 1 ]=1|L= 5 )= 0.5\n",
      "P(x[ 2 ]=0|L= 5 )= 0.5000000000000001 P(x[ 2 ]=1|L= 5 )= 0.5\n",
      "P(x[ 3 ]=0|L= 5 )= 0.5000000000000001 P(x[ 3 ]=1|L= 5 )= 0.5\n",
      "P(x[ 4 ]=0|L= 5 )= 0.5000000000000001 P(x[ 4 ]=1|L= 5 )= 0.5\n"
     ]
    }
   ],
   "source": [
    "prob0str=[]\n",
    "prob0list=[]\n",
    "for L in range(1,no_hist+1):\n",
    "    print('The conditional probabilities for the i-th digit given that we generate a string of length', L,' are')\n",
    "    probdta=globals()['shist%s' % L]\n",
    "    for j in range(len(probdta[0][0])):\n",
    "        prob0=0\n",
    "        prob1=0\n",
    "        #print(j)\n",
    "    \n",
    "        for i in range(len(probdta[0])):\n",
    "            if probdta[0][i][j]=='0':\n",
    "                prob0+=(probdta[1][i])\n",
    "            #print(prob0)\n",
    "            elif probdta[0][i][j]=='1':\n",
    "                prob1+=(probdta[1][i])\n",
    "        prob0str.append('P(x['+str(j) +']=0|L='+ str(L)+')')\n",
    "        prob0list.append(prob0)\n",
    "        \n",
    "    \n",
    "        \n",
    "        print('P(x[',j,']=0|L=',L,')=',prob0,'P(x[',j,']=1|L=',L,')=',prob1)"
   ]
  },
  {
   "cell_type": "markdown",
   "id": "96af1329",
   "metadata": {},
   "source": [
    "We're gonna plot the probability of finding a cero in the $i$-th member of a random number generated with lenght L"
   ]
  },
  {
   "cell_type": "code",
   "execution_count": 22,
   "id": "f4be56cb",
   "metadata": {},
   "outputs": [
    {
     "data": {
      "image/png": "[encoded data removed]",
      "text/plain": [
       "<Figure size 864x360 with 1 Axes>"
      ]
     },
     "metadata": {
      "needs_background": "light"
     },
     "output_type": "display_data"
    }
   ],
   "source": [
    "\n",
    "fig,ax = plt.subplots()\n",
    "\n",
    "\n",
    "\n",
    "ax.tick_params(axis='x', labelrotation=60)\n",
    "\n",
    "\n",
    "plt.bar(prob0str[0], prob0list[0])\n",
    "plt.bar(prob0str[1:3], prob0list[1:3])\n",
    "plt.bar(prob0str[3:6], prob0list[3:6])\n",
    "plt.bar(prob0str[6:10], prob0list[6:10])\n",
    "if no_hist==5:\n",
    "    plt.bar(prob0str[10:15], prob0list[10:15])\n",
    "    \n",
    "\n",
    "#plt.xlabel('Conditional probabilities given that a str of length L is generated')\n",
    "plt.ylabel('Conditional probability')\n",
    "plt.title('Probability of finding a cero in the i-th element of a generated random number of length L')\n",
    "plt.show()\n"
   ]
  },
  {
   "cell_type": "markdown",
   "id": "50ca4946",
   "metadata": {},
   "source": [
    "It is important to note that this unbiased distribution is present regardless of the data we analyze.\n",
    "\n",
    "So we encorage you to try all the data that we have. "
   ]
  },
  {
   "cell_type": "markdown",
   "id": "e58a86f7",
   "metadata": {},
   "source": [
    "$\\textbf{Some coments}$"
   ]
  },
  {
   "cell_type": "markdown",
   "id": "3d3f131b",
   "metadata": {},
   "source": [
    "Now that we show that the i-th member of the generated string has an unbiased probability of taking the values $0$ or $1$, and since every output is independent of the previous one, we can generate random numbers of an arbitrary length S by concatenating the strings of different experiments conserving the unbiased distribution. This also assures us that we'll always produce a string of maximum entropy.\n",
    "\n",
    "This is one of the main results of this analysis because this ensures that if we create a random string by adding the strings of the random number generated by our BS and post-processing we'll keep having a probability of 1/2 to generate a 0 or 1 for every member of the produced string. So, in order to generate random numbers of a bigger number of strings, we need to optimize the generation of large strings. In the next notebook, we'll study the generation of random numbers given these conditions and study those probability distributions. \n",
    "\n",
    "However the conditions of the Boson sampling, are gonna change the probability distribution of producing a random number with string length L, so the next step is to construct the experiment that leads us to the bigger number of the string in order to optimize the number of samples for generating a string of length S>L.\n",
    "\n",
    "And we want to make notice that in the Gaussian Boson Sampling data we have a bigger collection of possible strings after the post-processing, this suggests that the Gaussian Boson Sampling might have a better performance in the generation of random number generation."
   ]
  },
  {
   "cell_type": "code",
   "execution_count": null,
   "id": "8e2dd02d",
   "metadata": {},
   "outputs": [],
   "source": []
  }
 ],
 "metadata": {
  "kernelspec": {
   "display_name": "Python 3 (ipykernel)",
   "language": "python",
   "name": "python3"
  },
  "language_info": {
   "codemirror_mode": {
    "name": "ipython",
    "version": 3
   },
   "file_extension": ".py",
   "mimetype": "text/x-python",
   "name": "python",
   "nbconvert_exporter": "python",
   "pygments_lexer": "ipython3",
   "version": "3.9.12"
  }
 },
 "nbformat": 4,
 "nbformat_minor": 5
}
